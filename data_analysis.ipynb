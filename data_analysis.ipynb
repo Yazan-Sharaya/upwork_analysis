{
 "cells": [
  {
   "cell_type": "code",
   "id": "initial_id",
   "metadata": {
    "collapsed": true
   },
   "source": [
    "\"\"\"For documentation about the code or if you want to reuse parts of it, look into `analyze_data.py`.\"\"\"\n",
    "import pandas as pd\n",
    "import seaborn as sns\n",
    "from matplotlib import pyplot as plt\n",
    "from datetime import timedelta\n",
    "from sklearn.preprocessing import MultiLabelBinarizer\n",
    "from scipy.stats import spearmanr"
   ],
   "outputs": [],
   "execution_count": null
  },
  {
   "metadata": {},
   "cell_type": "code",
   "source": "sns.set(style='whitegrid', palette=\"deep\", font_scale=1.1, rc={\"figure.figsize\": [10, 6]})",
   "id": "463df7e757dd3216",
   "outputs": [],
   "execution_count": null
  },
  {
   "metadata": {},
   "cell_type": "code",
   "source": [
    "df = pd.read_json('python_jobs.json').convert_dtypes()\n",
    "category_columns = [\"proposals\", \"client_location\", \"type\", \"experience_level\", \"time_estimate\"]\n",
    "integer_columns = ['budget', 'client_jobs_posted', 'client_total_spent']\n",
    "float_columns = ['client_hire_rate', 'client_hourly_rate']\n",
    "df[category_columns] = df[category_columns].astype('category')\n",
    "df[integer_columns] = df[integer_columns].apply(lambda series: pd.to_numeric(series, downcast='unsigned'))\n",
    "df[float_columns] = df[float_columns].apply(lambda series: pd.to_numeric(series, downcast='float'))\n",
    "df['time'] = pd.to_datetime(df['time'], unit='s')"
   ],
   "id": "35055c01c0be75f1",
   "outputs": [],
   "execution_count": null
  },
  {
   "metadata": {},
   "cell_type": "code",
   "source": "df.info()",
   "id": "23ae545d3ac0b22e",
   "outputs": [],
   "execution_count": null
  },
  {
   "metadata": {},
   "cell_type": "code",
   "source": [
    "# Drop duplicated\n",
    "df = df[~df.drop(['skills', 'time'], axis=1).duplicated()].reset_index(drop=True)"
   ],
   "id": "5a3b9a94ede2159f",
   "outputs": [],
   "execution_count": null
  },
  {
   "metadata": {},
   "cell_type": "code",
   "source": "df['type'].value_counts()",
   "id": "bd4c0c0f67042e1a",
   "outputs": [],
   "execution_count": null
  },
  {
   "metadata": {},
   "cell_type": "code",
   "source": "df['experience_level'].value_counts()",
   "id": "a02002cc63cf2c4f",
   "outputs": [],
   "execution_count": null
  },
  {
   "metadata": {},
   "cell_type": "code",
   "source": "df['client_hourly_rate'].describe()",
   "id": "8390b1d0b84bbcf1",
   "outputs": [],
   "execution_count": null
  },
  {
   "metadata": {},
   "cell_type": "code",
   "source": "df['time_estimate'].value_counts()",
   "id": "15a1f97ae3d5a3f",
   "outputs": [],
   "execution_count": null
  },
  {
   "metadata": {},
   "cell_type": "code",
   "source": "df.loc[df['type'] == 'Fixed']['budget'].describe()",
   "id": "1bcb7471c0ed1677",
   "outputs": [],
   "execution_count": null
  },
  {
   "metadata": {},
   "cell_type": "code",
   "source": "df.loc[df['type'] == 'Hourly']['budget'].describe()",
   "id": "c0f693419ca9f3ea",
   "outputs": [],
   "execution_count": null
  },
  {
   "metadata": {},
   "cell_type": "code",
   "source": [
    "budget_groups = ['<10$', '10-20$', '20-30$', '30-40$', '40-50$', '50-100$', '100-200$', '200-300$', '300-400$', '400-500$', '500-1000$', '1000-5000$', '5000-10000$', \"10000-50000$\", \">50000$\"]\n",
    "budget_bins = [0, 10, 20, 30, 40, 50, 100, 200, 300, 400, 500, 1000, 5000, 10000, 50_000, int(1e9)]\n",
    "budget_ranges = pd.cut(df['budget'], bins=budget_bins, labels=budget_groups)\n",
    "sns.countplot(x=budget_ranges, order=budget_groups).set(title=\"Budget ranges count\", xlabel=\"Budget Range\", ylabel=\"Count\", yticks=range(0, budget_ranges.value_counts().max(), 20))\n",
    "plt.xticks(rotation=45)\n",
    "plt.show()  # To get rid of the text printed before the plot"
   ],
   "id": "ef802bf12e0531b9",
   "outputs": [],
   "execution_count": null
  },
  {
   "metadata": {},
   "cell_type": "code",
   "source": [
    "df_one_week = df[df['time'] >= (df['time'].max() - timedelta(days=7))].copy()\n",
    "df_one_week['day'] = df_one_week['time'].dt.day_name()\n",
    "sns.countplot(df_one_week, x='day', order=['Monday', 'Tuesday', 'Wednesday', 'Thursday', 'Friday', 'Saturday', 'Sunday'])\n",
    "plt.show()"
   ],
   "id": "d985df8c1d978e74",
   "outputs": [],
   "execution_count": null
  },
  {
   "metadata": {},
   "cell_type": "code",
   "source": [
    "counts = df.dropna(subset=['budget'])['client_location'].value_counts()\n",
    "no_four_trick_ponies = df[df['client_location'].isin(counts.index[counts > 4])]\n",
    "top_15_countries = (\n",
    "    no_four_trick_ponies\n",
    "    .groupby(\"client_location\", observed=False)\n",
    "    .budget\n",
    "    .mean()\n",
    "    .reset_index()\n",
    "    .sort_values('budget', ascending=False)\n",
    "    .head(15)\n",
    ")\n",
    "top_15_countries['client_location'] = top_15_countries['client_location'].astype('string')\n",
    "# Convert category dtype to string because seaborn will display all the categories even if they are not\n",
    "# present in chosen dataframe, this is probably a bug with seaborn.\n",
    "sns.barplot(top_15_countries, x='client_location', y='budget')\n",
    "plt.xticks(rotation=90)\n",
    "plt.show()"
   ],
   "id": "9aae6c895c343b10",
   "outputs": [],
   "execution_count": null
  },
  {
   "metadata": {},
   "cell_type": "code",
   "source": [
    "skills_counter = {}\n",
    "for skills_set in df['skills']:\n",
    "    for skill in skills_set:\n",
    "        skills_counter[skill] = skills_counter.get(skill, 0) + 1\n",
    "top_n = 20  # The number of most common skills to choose.\n",
    "most_common_skills = dict(sorted(skills_counter.items(), key=lambda x: x[1], reverse=True)[:20])  # Ordered from most to least common\n",
    "sns.barplot(most_common_skills, orient='h').set(title=\"Skills count\", xlabel=\"Skill\", ylabel=\"Count\")\n",
    "plt.show()"
   ],
   "id": "66b9f7239288e9b3",
   "outputs": [],
   "execution_count": null
  },
  {
   "metadata": {},
   "cell_type": "code",
   "source": [
    "filtered_df = df.dropna(subset=['budget', 'proposals'], ignore_index=True).copy()\n",
    "budget_cap = int(filtered_df['budget'].quantile(0.99))\n",
    "filtered_df['budget'] = filtered_df['budget'].clip(upper=budget_cap)"
   ],
   "id": "46f3e8d45a0d5a79",
   "outputs": [],
   "execution_count": null
  },
  {
   "metadata": {},
   "cell_type": "code",
   "source": [
    "# Transform Skills into Binary Indicator Columns\n",
    "mlb = MultiLabelBinarizer()\n",
    "skills_transformed = mlb.fit_transform(filtered_df['skills'])\n",
    "skills_df = pd.DataFrame(skills_transformed, columns=mlb.classes_)\n",
    "df_skills_binary = pd.concat([filtered_df, skills_df], axis=1).drop('skills', axis=1)"
   ],
   "id": "fa9d0beadf960544",
   "outputs": [],
   "execution_count": null
  },
  {
   "metadata": {},
   "cell_type": "code",
   "source": "high_frequency_skills = [skill for skill, count in sorted(skills_counter.items(), key=lambda x: x[1], reverse=True) if count >= 30]",
   "id": "ca9f168fae705ae9",
   "outputs": [],
   "execution_count": null
  },
  {
   "metadata": {},
   "cell_type": "code",
   "source": [
    "high_budget_corr_skills = []\n",
    "for skill in mlb.classes_:\n",
    "    corr, p_value = spearmanr(df_skills_binary[skill], df_skills_binary['budget'])\n",
    "    if p_value <= 0.05 <= corr:\n",
    "        high_budget_corr_skills.append(skill)"
   ],
   "id": "2dc0a9eed40e904c",
   "outputs": [],
   "execution_count": null
  },
  {
   "metadata": {},
   "cell_type": "code",
   "source": "skills_of_interest = set(high_frequency_skills).intersection(high_budget_corr_skills)",
   "id": "7b1e04418281906f",
   "outputs": [],
   "execution_count": null
  },
  {
   "metadata": {},
   "cell_type": "code",
   "source": [
    "df_melted = df_skills_binary.melt(id_vars=['budget', 'proposals'], value_vars=skills_of_interest, var_name='skill', value_name='presence')\n",
    "# Filter only the rows where the skill is present\n",
    "df_melted = df_melted[df_melted['presence'] == 1].drop('presence', axis=1)"
   ],
   "id": "3357197f06beda30",
   "outputs": [],
   "execution_count": null
  },
  {
   "metadata": {},
   "cell_type": "code",
   "source": [
    "sns.boxplot(df_melted, x='skill', y='budget', order=skills_of_interest)\n",
    "plt.xticks(rotation=90)\n",
    "plt.title('Distribution of Budgets by Skill Presence')\n",
    "plt.show()"
   ],
   "id": "ce2abd52b96e066",
   "outputs": [],
   "execution_count": null
  },
  {
   "metadata": {},
   "cell_type": "code",
   "source": [
    "g = sns.FacetGrid(df_melted, col=\"proposals\", hue='proposals', col_wrap=2, height=8, sharex=False, sharey=False, col_order=['Less than 5', '5 to 10', '10 to 15', '15 to 20', '20 to 50', '50+'])\n",
    "g.map(sns.boxplot, \"skill\", \"budget\", order=skills_of_interest)\n",
    "for ax in g.axes.flat:\n",
    "    for label in ax.get_xticklabels():\n",
    "        label.set_rotation(90)\n",
    "g.fig.suptitle('Distribution of Budgets by Skill Presence and Number of Proposals')\n",
    "g.fig.tight_layout()  # Adjust spacing.\n",
    "plt.show()"
   ],
   "id": "2c394820806e5bc8",
   "outputs": [],
   "execution_count": null
  },
  {
   "metadata": {},
   "cell_type": "code",
   "source": [
    "contingency_table = pd.crosstab(df_melted['proposals'], df_melted['skill'], normalize='columns').reindex(['Less than 5', '5 to 10', '10 to 15', '15 to 20', '20 to 50', '50+']).T\n",
    "sns.heatmap(contingency_table, annot=True, fmt='.2g');"
   ],
   "id": "6b9c842e21810b35",
   "outputs": [],
   "execution_count": null
  }
 ],
 "metadata": {
  "kernelspec": {
   "display_name": "Python 3",
   "language": "python",
   "name": "python3"
  },
  "language_info": {
   "codemirror_mode": {
    "name": "ipython",
    "version": 2
   },
   "file_extension": ".py",
   "mimetype": "text/x-python",
   "name": "python",
   "nbconvert_exporter": "python",
   "pygments_lexer": "ipython2",
   "version": "2.7.6"
  }
 },
 "nbformat": 4,
 "nbformat_minor": 5
}
